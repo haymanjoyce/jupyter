{
 "cells": [
  {
   "cell_type": "markdown",
   "metadata": {},
   "source": [
    "So what am I trying to do?  I am trying to make code more efficient.  At moment, I create new object each time I want new SVG element.  It would be more efficient to create one object and then, each time I needed a new SVG element, change its variables a bit and ask it to print out the altered SVG.\n",
    "\n",
    "An additional problem is that, when I change the variables of an existing object, the calculated variables do not update.  They are only calculated on initiation or, in case of dataclasses, post initiation."
   ]
  },
  {
   "cell_type": "code",
   "execution_count": 26,
   "metadata": {},
   "outputs": [
    {
     "name": "stdout",
     "output_type": "stream",
     "text": [
      "10\n"
     ]
    },
    {
     "data": {
      "text/plain": [
       "0"
      ]
     },
     "execution_count": 26,
     "metadata": {},
     "output_type": "execute_result"
    }
   ],
   "source": [
    "class MammalA:\n",
    "    def __init__(self):\n",
    "        self.ab = 0\n",
    "        self.bc = self.calc_bc()\n",
    "        self.cd = 0\n",
    "        \n",
    "    def calc_bc(self):\n",
    "        return self.ab * 10\n",
    "\n",
    "obj_ab = MammalA()\n",
    "obj_ab.ab = 10  # I can set parameters after object formed\n",
    "print(obj_ab.ab)\n",
    "obj_ab.bc  # But related fields not recalculated"
   ]
  },
  {
   "cell_type": "code",
   "execution_count": 25,
   "metadata": {},
   "outputs": [
    {
     "name": "stdout",
     "output_type": "stream",
     "text": [
      "10\n"
     ]
    },
    {
     "data": {
      "text/plain": [
       "0"
      ]
     },
     "execution_count": 25,
     "metadata": {},
     "output_type": "execute_result"
    }
   ],
   "source": [
    "from dataclasses import dataclass\n",
    "\n",
    "@dataclass\n",
    "class MammalB:\n",
    "        ab: int = 0\n",
    "        bc: int = 0  # I cannot assign functions to parameters\n",
    "        cd: int = 0\n",
    "        \n",
    "        def __post_init__(self):\n",
    "            self.bc = self.ab * 10\n",
    "\n",
    "obj_ab = MammalB()\n",
    "obj_ab.ab = 10  # I can set parameters after object formed\n",
    "print(obj_ab.ab)\n",
    "obj_ab.bc  # But related fields not recalculated"
   ]
  },
  {
   "cell_type": "code",
   "execution_count": 2,
   "metadata": {},
   "outputs": [
    {
     "name": "stdout",
     "output_type": "stream",
     "text": [
      "10\n"
     ]
    },
    {
     "data": {
      "text/plain": [
       "100"
      ]
     },
     "execution_count": 2,
     "metadata": {},
     "output_type": "execute_result"
    }
   ],
   "source": [
    "class MammalC:\n",
    "    def __init__(self):\n",
    "        self.ab = 0\n",
    "        self.cd = 0\n",
    "    \n",
    "    @property\n",
    "    def bc(self):\n",
    "        return self.ab * 10\n",
    "\n",
    "obj_ab = MammalC()\n",
    "obj_ab.ab = 10  # I can set parameters after object formed\n",
    "print(obj_ab.ab)\n",
    "obj_ab.bc  # Related fields recalculated"
   ]
  },
  {
   "cell_type": "markdown",
   "metadata": {},
   "source": [
    "So MammalC solves my problem.  Further things to consider:\n",
    "\n",
    "* Will I need to set the calculated value?\n",
    "* What if I initialise a bc attribute in addition to a bc property?\n",
    "* How does inheritance work with the property function?\n",
    "* Would using dataclass decorator improve MammalC?"
   ]
  },
  {
   "cell_type": "markdown",
   "metadata": {},
   "source": [
    "## Set the calculated value?\n",
    "\n",
    "So these are values derived from other variables.  I cannot see need.  Not when, for example, subclass overrides inherited variable.   However, if it is required then property function/decorator allows me to set properties."
   ]
  },
  {
   "cell_type": "markdown",
   "metadata": {},
   "source": [
    "## Initialise attribute and property of same name?\n",
    "\n",
    "Nope, will not allow it.  Is unable to initialise the value of property of same name exists."
   ]
  },
  {
   "cell_type": "markdown",
   "metadata": {},
   "source": [
    "## How does inheritance work?"
   ]
  },
  {
   "cell_type": "code",
   "execution_count": 22,
   "metadata": {},
   "outputs": [
    {
     "name": "stdout",
     "output_type": "stream",
     "text": [
      "10\n",
      "100\n",
      "a\n",
      "\n",
      "20\n",
      "400\n",
      "a\n"
     ]
    }
   ],
   "source": [
    "class MammalD:\n",
    "    def __init__(self):\n",
    "        self.ab = 10\n",
    "        self.cd = 'a'\n",
    "    \n",
    "    @property\n",
    "    def bc(self):\n",
    "        return self.ab * 10\n",
    "\n",
    "class HumanA(MammalD):\n",
    "    def __init__(self):\n",
    "        super().__init__()\n",
    "        self.ab = 20\n",
    "\n",
    "    @property\n",
    "    def bc(self):\n",
    "        return self.ab * 20        \n",
    "\n",
    "\n",
    "obj_gh = MammalD()\n",
    "print(obj_gh.ab)\n",
    "print(obj_gh.bc)\n",
    "print(obj_gh.cd)\n",
    "\n",
    "print()\n",
    "\n",
    "obj_jk = HumanA()\n",
    "print(obj_jk.ab)  # overrides inherited\n",
    "print(obj_jk.bc)  # overrides inherited \n",
    "print(obj_jk.cd)  # inherited"
   ]
  },
  {
   "cell_type": "markdown",
   "metadata": {},
   "source": [
    "Okay, dataclasses wouldn't need me to initiate the inherited class with super().  Without doing this, child class doesn't get the attributes of the parent class."
   ]
  },
  {
   "cell_type": "markdown",
   "metadata": {},
   "source": [
    "## Improve with dataclass decorator?\n",
    "\n",
    "So looking at dataclasses on RealPython, the main advantages that I can see are that they are less verbose and that I can do post initiation calculations.  The code below does same as code above but is more readable."
   ]
  },
  {
   "cell_type": "code",
   "execution_count": 25,
   "metadata": {},
   "outputs": [
    {
     "name": "stdout",
     "output_type": "stream",
     "text": [
      "10\n",
      "100\n",
      "a\n",
      "\n",
      "20\n",
      "400\n",
      "a\n"
     ]
    }
   ],
   "source": [
    "from dataclasses import dataclass\n",
    "\n",
    "@dataclass\n",
    "class MammalE:\n",
    "    ab: int = 10\n",
    "    cd: str = 'a'\n",
    "    \n",
    "    @property\n",
    "    def bc(self):\n",
    "        return self.ab * 10\n",
    "\n",
    "@dataclass\n",
    "class HumanB(MammalE):\n",
    "    ab: int = 20\n",
    "\n",
    "    @property\n",
    "    def bc(self):\n",
    "        return self.ab * 20        \n",
    "\n",
    "\n",
    "obj_gh = MammalE()\n",
    "print(obj_gh.ab)\n",
    "print(obj_gh.bc)\n",
    "print(obj_gh.cd)\n",
    "\n",
    "print()\n",
    "\n",
    "obj_jk = HumanB()\n",
    "print(obj_jk.ab)  # overrides inherited\n",
    "print(obj_jk.bc)  # overrides inherited \n",
    "print(obj_jk.cd)  # inherited"
   ]
  },
  {
   "cell_type": "markdown",
   "metadata": {},
   "source": [
    "## Follow up\n",
    "\n",
    "1.  Okay, so it turned out that I needed to convert all user-defined attributes into properties: a user may want to change any one of them.  \n",
    "\n",
    "\n",
    "2.  I did not need to convert derived (or calculated) attributes to properties because the calculation happens as part of changing a user-defined property.\n",
    "\n",
    "\n",
    "3.  I needed the ability to set user-defined properties too (i.e. ```@[property].setter```)\n",
    "\n",
    "\n",
    "4.  Properties do not show up in the property signature and classes cannot be initialised via these properties\n",
    "\n",
    "\n",
    "5.  I am able to initialise classes with the private attributes (e.g. ```_width```).  I tried to set these private attributes to not appear in property signature using ```field(repr=False)``` but did not work.  So what I did in end is rename the property rather than the private attributes, so the private attribute still reads ```width``` and the property is pre-fixed something like this ```new_width```.  This means the property signature stays same; I am able to initialise classes as I did before; I am able to change object variables and their derived variables; I am able to get the width value from either ```width``` or ```new_width```.\n",
    "\n",
    "\n",
    "6.  Getting the ```new_width``` property is a bit redundant because it is always the same as ```width```.  Setting ```new_width``` is the key bit because it allow me to recalculate all derived fields in the same setter function.  **Gosh, this is all a wild goose chase.  I should just have a function like ```new_width``` which recalcs all derived fields.**\n"
   ]
  },
  {
   "cell_type": "code",
   "execution_count": null,
   "metadata": {},
   "outputs": [],
   "source": []
  }
 ],
 "metadata": {
  "kernelspec": {
   "display_name": "Python 3",
   "language": "python",
   "name": "python3"
  },
  "language_info": {
   "codemirror_mode": {
    "name": "ipython",
    "version": 3
   },
   "file_extension": ".py",
   "mimetype": "text/x-python",
   "name": "python",
   "nbconvert_exporter": "python",
   "pygments_lexer": "ipython3",
   "version": "3.8.0"
  }
 },
 "nbformat": 4,
 "nbformat_minor": 2
}
