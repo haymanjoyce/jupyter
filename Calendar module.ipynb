{
 "cells": [
  {
   "cell_type": "code",
   "execution_count": 8,
   "metadata": {},
   "outputs": [
    {
     "name": "stdout",
     "output_type": "stream",
     "text": [
      "0, 0, 1, 2, 3, 4, 5, 6, 7, 8, 9, 10, 11, 12, 13, 14, 15, 16, 17, 18, 19, 20, 21, 22, 23, 24, 25, 26, 27, 28, 29, 30, 31, 0, 0, "
     ]
    }
   ],
   "source": [
    "import calendar\n",
    "import pprint\n",
    "mycal = calendar.Calendar()\n",
    "for i in mycal.itermonthdays(2020, 1):\n",
    "    print(i, end=\", \")"
   ]
  },
  {
   "cell_type": "code",
   "execution_count": 9,
   "metadata": {},
   "outputs": [
    {
     "name": "stdout",
     "output_type": "stream",
     "text": [
      "(0, 0), (0, 1), (1, 2), (2, 3), (3, 4), (4, 5), (5, 6), (6, 0), (7, 1), (8, 2), (9, 3), (10, 4), (11, 5), (12, 6), (13, 0), (14, 1), (15, 2), (16, 3), (17, 4), (18, 5), (19, 6), (20, 0), (21, 1), (22, 2), (23, 3), (24, 4), (25, 5), (26, 6), (27, 0), (28, 1), (29, 2), (30, 3), (31, 4), (0, 5), (0, 6), "
     ]
    }
   ],
   "source": [
    "for i in mycal.itermonthdays2(2020, 1):\n",
    "    print(i, end=\", \")"
   ]
  },
  {
   "cell_type": "code",
   "execution_count": 10,
   "metadata": {},
   "outputs": [
    {
     "name": "stdout",
     "output_type": "stream",
     "text": [
      "(2019, 12, 30), (2019, 12, 31), (2020, 1, 1), (2020, 1, 2), (2020, 1, 3), (2020, 1, 4), (2020, 1, 5), (2020, 1, 6), (2020, 1, 7), (2020, 1, 8), (2020, 1, 9), (2020, 1, 10), (2020, 1, 11), (2020, 1, 12), (2020, 1, 13), (2020, 1, 14), (2020, 1, 15), (2020, 1, 16), (2020, 1, 17), (2020, 1, 18), (2020, 1, 19), (2020, 1, 20), (2020, 1, 21), (2020, 1, 22), (2020, 1, 23), (2020, 1, 24), (2020, 1, 25), (2020, 1, 26), (2020, 1, 27), (2020, 1, 28), (2020, 1, 29), (2020, 1, 30), (2020, 1, 31), (2020, 2, 1), (2020, 2, 2), "
     ]
    }
   ],
   "source": [
    "for i in mycal.itermonthdays3(2020, 1):\n",
    "\n",
    "    print(i, end=\", \")"
   ]
  },
  {
   "cell_type": "code",
   "execution_count": 11,
   "metadata": {},
   "outputs": [
    {
     "name": "stdout",
     "output_type": "stream",
     "text": [
      "(2019, 12, 30, 0), (2019, 12, 31, 1), (2020, 1, 1, 2), (2020, 1, 2, 3), (2020, 1, 3, 4), (2020, 1, 4, 5), (2020, 1, 5, 6), (2020, 1, 6, 0), (2020, 1, 7, 1), (2020, 1, 8, 2), (2020, 1, 9, 3), (2020, 1, 10, 4), (2020, 1, 11, 5), (2020, 1, 12, 6), (2020, 1, 13, 0), (2020, 1, 14, 1), (2020, 1, 15, 2), (2020, 1, 16, 3), (2020, 1, 17, 4), (2020, 1, 18, 5), (2020, 1, 19, 6), (2020, 1, 20, 0), (2020, 1, 21, 1), (2020, 1, 22, 2), (2020, 1, 23, 3), (2020, 1, 24, 4), (2020, 1, 25, 5), (2020, 1, 26, 6), (2020, 1, 27, 0), (2020, 1, 28, 1), (2020, 1, 29, 2), (2020, 1, 30, 3), (2020, 1, 31, 4), (2020, 2, 1, 5), (2020, 2, 2, 6), "
     ]
    }
   ],
   "source": [
    "for i in mycal.itermonthdays4(2020, 1):\n",
    "    print(i, end=\", \")"
   ]
  },
  {
   "cell_type": "code",
   "execution_count": 17,
   "metadata": {},
   "outputs": [
    {
     "name": "stdout",
     "output_type": "stream",
     "text": [
      "(2010, 8)(2010, 9)(2010, 10)(2010, 11)(2010, 12)(2011, 1)(2011, 2)"
     ]
    }
   ],
   "source": [
    "# https://stackoverflow.com/questions/5734438/how-to-create-a-month-iterator\n",
    "\n",
    "def month_year_iter( start_month, start_year, end_month, end_year ):\n",
    "    ym_start= 12*start_year + start_month - 1\n",
    "    ym_end= 12*end_year + end_month - 1\n",
    "    for ym in range( ym_start, ym_end ):\n",
    "        y, m = divmod( ym, 12 )\n",
    "        yield y, m+1\n",
    "\n",
    "for i in month_year_iter(8, 2010, 3, 2011):\n",
    "    print(i, end=\"\")"
   ]
  },
  {
   "cell_type": "markdown",
   "metadata": {},
   "source": [
    "What do I need?  I need a function that returns ordinal dates.  In a date range, indicated by start and finish.  The dates should be a start and finish date for an interval.  Intervals are day, week, month, quarter, half, and year.\n",
    "\n",
    "```\n",
    "my_iterator(start_date, finish_date, interval_type)\n",
    "```\n"
   ]
  },
  {
   "cell_type": "code",
   "execution_count": null,
   "metadata": {},
   "outputs": [],
   "source": [
    "import dateutil"
   ]
  }
 ],
 "metadata": {
  "kernelspec": {
   "display_name": "Python 3",
   "language": "python",
   "name": "python3"
  },
  "language_info": {
   "codemirror_mode": {
    "name": "ipython",
    "version": 3
   },
   "file_extension": ".py",
   "mimetype": "text/x-python",
   "name": "python",
   "nbconvert_exporter": "python",
   "pygments_lexer": "ipython3",
   "version": "3.8.0"
  }
 },
 "nbformat": 4,
 "nbformat_minor": 4
}
