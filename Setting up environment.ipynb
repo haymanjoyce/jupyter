{
 "cells": [
  {
   "cell_type": "markdown",
   "metadata": {},
   "source": [
    "# Python\n",
    "\n",
    "Go to website and select web enabled download (64 bit).\n",
    "\n",
    "Install it for all users, which means it'll be loaded into Program Files instead of AppData.\n",
    "\n",
    "Select update environment settings.  This means paths will be added to path variable.\n",
    "\n",
    "Remove paths to old versions."
   ]
  },
  {
   "cell_type": "code",
   "execution_count": 1,
   "metadata": {},
   "outputs": [
    {
     "name": "stdout",
     "output_type": "stream",
     "text": [
      "c:\\program files\\python38\\python.exe\n"
     ]
    }
   ],
   "source": [
    "import os\n",
    "import sys\n",
    "print(sys.executable)"
   ]
  },
  {
   "cell_type": "markdown",
   "metadata": {},
   "source": [
    "# Pip\n",
    "\n",
    "You cannot install pip --upgrade to for all users (i.e. in Program Files) as permission to that folder is only available to the installer. Consequently, all pip stuff will be stored to the user folder (appdata).\n",
    "\n",
    "python -m pip install pip --upgrade --user\n",
    "\n",
    "After upgrade it will complain about old wrapper or something.  Think reason is that you are opening pip via wrapper in Program Files which hasn't been upgraded.  However, I seemed to get same problem if I did --user only install too.\n",
    "\n",
    "Way round it is to call pip with:\n",
    "\n",
    "python -m pip \\[command\\]\n",
    "\n",
    "This is pissing a lot of people off in the community, by the way."
   ]
  },
  {
   "cell_type": "markdown",
   "metadata": {},
   "source": [
    "# Virtualenv\n",
    "\n",
    "python -m pip install virtualenv --user\n",
    "\n",
    "Presumably --upgrade works too.\n",
    "\n",
    "python -m virtualenv --version\n",
    "\n",
    "Not sure what version PyCharm is using.  Guessing system."
   ]
  },
  {
   "cell_type": "markdown",
   "metadata": {},
   "source": [
    "# PySide2\n",
    "\n",
    "If you try to use the PySide2 package on Windows within a virtual environment and you see an error similar to the one below, make sure to update your virtualenv package to the latest version (16.1.0+) and then recreate the virtual environment.\n",
    "\n",
    "ImportError: DLL load failed: The specified module could not be found.\n",
    "\n",
    "Qt's solution (above) did not work.  My virtualenv was up to date.\n",
    "\n",
    "Further digging and it looks like Python 3.8 not playing with PySide2:\n",
    "\n",
    "This also happened to me while I was using Python 3.8 and installed the shiboken2 whl from today (5.14.0a1, 12-15-19). Using Python 3.7.5 made this go away for me.\n",
    "\n",
    "So I will use Python37 until fixed."
   ]
  },
  {
   "cell_type": "markdown",
   "metadata": {},
   "source": [
    "# Jupyter\n",
    "\n",
    "If you have installed Python for all users, it will appear in Program Files (not AppData).\n",
    "\n",
    "You install jupyter with pip: \n",
    "\n",
    "python -m pip install jupyter --user\n",
    "\n",
    "If it cannot see the executable from the command line, you need to add the executable location to the Path variable in Environment Settings:\n",
    "\n",
    "C:\\users\\hayma\\appdata\\roaming\\python\\python38\\Scripts"
   ]
  },
  {
   "cell_type": "markdown",
   "metadata": {},
   "source": [
    "# Git\n",
    "\n",
    "You can change folder names without confusing Git.  Git is insalled at system level and so it has a system perspective.\n",
    "\n",
    "`Get-Command git` or use `which` on Mac"
   ]
  },
  {
   "cell_type": "markdown",
   "metadata": {},
   "source": [
    "# Windows\n",
    "\n",
    "When using PowerShell, you will need admin permissions to install.\n",
    "\n",
    "Windows key + x then select PowerShell(Admin)."
   ]
  },
  {
   "cell_type": "code",
   "execution_count": null,
   "metadata": {},
   "outputs": [],
   "source": []
  }
 ],
 "metadata": {
  "kernelspec": {
   "display_name": "Python 3",
   "language": "python",
   "name": "python3"
  },
  "language_info": {
   "codemirror_mode": {
    "name": "ipython",
    "version": 3
   },
   "file_extension": ".py",
   "mimetype": "text/x-python",
   "name": "python",
   "nbconvert_exporter": "python",
   "pygments_lexer": "ipython3",
   "version": "3.8.0"
  }
 },
 "nbformat": 4,
 "nbformat_minor": 4
}
