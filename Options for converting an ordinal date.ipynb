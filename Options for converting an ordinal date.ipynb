{
 "cells": [
  {
   "cell_type": "code",
   "execution_count": 2,
   "metadata": {},
   "outputs": [],
   "source": [
    "import datetime as dt"
   ]
  },
  {
   "cell_type": "code",
   "execution_count": 3,
   "metadata": {},
   "outputs": [
    {
     "data": {
      "text/plain": [
       "datetime.date(2020, 3, 26)"
      ]
     },
     "execution_count": 3,
     "metadata": {},
     "output_type": "execute_result"
    }
   ],
   "source": [
    "today = dt.date.today().toordinal()\n",
    "today = dt.date.fromordinal(today)\n",
    "today"
   ]
  },
  {
   "cell_type": "markdown",
   "metadata": {},
   "source": [
    "# Year"
   ]
  },
  {
   "cell_type": "code",
   "execution_count": 4,
   "metadata": {},
   "outputs": [
    {
     "data": {
      "text/plain": [
       "2020"
      ]
     },
     "execution_count": 4,
     "metadata": {},
     "output_type": "execute_result"
    }
   ],
   "source": [
    "today.year"
   ]
  },
  {
   "cell_type": "code",
   "execution_count": 5,
   "metadata": {
    "scrolled": true
   },
   "outputs": [
    {
     "data": {
      "text/plain": [
       "'20 2020'"
      ]
     },
     "execution_count": 5,
     "metadata": {},
     "output_type": "execute_result"
    }
   ],
   "source": [
    "today.strftime(\"%y %Y\")"
   ]
  },
  {
   "cell_type": "markdown",
   "metadata": {},
   "source": [
    "# Month"
   ]
  },
  {
   "cell_type": "code",
   "execution_count": 46,
   "metadata": {},
   "outputs": [
    {
     "data": {
      "text/plain": [
       "3"
      ]
     },
     "execution_count": 46,
     "metadata": {},
     "output_type": "execute_result"
    }
   ],
   "source": [
    "today.month"
   ]
  },
  {
   "cell_type": "code",
   "execution_count": 53,
   "metadata": {},
   "outputs": [
    {
     "data": {
      "text/plain": [
       "'Mar March 03'"
      ]
     },
     "execution_count": 53,
     "metadata": {},
     "output_type": "execute_result"
    }
   ],
   "source": [
    "today.strftime(\"%b %B %m\")"
   ]
  },
  {
   "cell_type": "markdown",
   "metadata": {},
   "source": [
    "# Week number"
   ]
  },
  {
   "cell_type": "code",
   "execution_count": 55,
   "metadata": {
    "scrolled": true
   },
   "outputs": [
    {
     "data": {
      "text/plain": [
       "'12 12'"
      ]
     },
     "execution_count": 55,
     "metadata": {},
     "output_type": "execute_result"
    }
   ],
   "source": [
    "today.strftime(\"%U %W\")  # U with Sun as first day, W as Mon as first day"
   ]
  },
  {
   "cell_type": "markdown",
   "metadata": {},
   "source": [
    "# Date"
   ]
  },
  {
   "cell_type": "code",
   "execution_count": 47,
   "metadata": {},
   "outputs": [
    {
     "data": {
      "text/plain": [
       "23"
      ]
     },
     "execution_count": 47,
     "metadata": {},
     "output_type": "execute_result"
    }
   ],
   "source": [
    "today.day"
   ]
  },
  {
   "cell_type": "code",
   "execution_count": 48,
   "metadata": {},
   "outputs": [
    {
     "data": {
      "text/plain": [
       "'23'"
      ]
     },
     "execution_count": 48,
     "metadata": {},
     "output_type": "execute_result"
    }
   ],
   "source": [
    "today.strftime(\"%d\")"
   ]
  },
  {
   "cell_type": "markdown",
   "metadata": {},
   "source": [
    "# Day number"
   ]
  },
  {
   "cell_type": "code",
   "execution_count": 49,
   "metadata": {},
   "outputs": [
    {
     "data": {
      "text/plain": [
       "83"
      ]
     },
     "execution_count": 49,
     "metadata": {},
     "output_type": "execute_result"
    }
   ],
   "source": [
    "today.timetuple()[7]  # is day of year, where 1 Jan is day 1"
   ]
  },
  {
   "cell_type": "code",
   "execution_count": 50,
   "metadata": {
    "scrolled": true
   },
   "outputs": [
    {
     "data": {
      "text/plain": [
       "'083'"
      ]
     },
     "execution_count": 50,
     "metadata": {},
     "output_type": "execute_result"
    }
   ],
   "source": [
    "today.strftime(\"%j\")"
   ]
  },
  {
   "cell_type": "markdown",
   "metadata": {},
   "source": [
    "# Day name"
   ]
  },
  {
   "cell_type": "code",
   "execution_count": 51,
   "metadata": {
    "scrolled": true
   },
   "outputs": [
    {
     "data": {
      "text/plain": [
       "0"
      ]
     },
     "execution_count": 51,
     "metadata": {},
     "output_type": "execute_result"
    }
   ],
   "source": [
    "today.weekday()  # the day of the week"
   ]
  },
  {
   "cell_type": "code",
   "execution_count": 52,
   "metadata": {
    "scrolled": true
   },
   "outputs": [
    {
     "data": {
      "text/plain": [
       "'Mon Monday'"
      ]
     },
     "execution_count": 52,
     "metadata": {},
     "output_type": "execute_result"
    }
   ],
   "source": [
    "today.strftime(\"%a %A\")"
   ]
  },
  {
   "cell_type": "markdown",
   "metadata": {},
   "source": [
    "# Notation"
   ]
  },
  {
   "cell_type": "code",
   "execution_count": 3,
   "metadata": {},
   "outputs": [
    {
     "name": "stdout",
     "output_type": "stream",
     "text": [
      "years:\n",
      "20 y or yy\n",
      "2020 any other kind of y or Y\n",
      "\n",
      "months:\n",
      "4 m\n",
      "04 mm\n",
      "Apr mmm\n",
      "April M expected but any other kind of m or M accepted\n",
      "\n",
      "dates:\n",
      "5 d\n",
      "05 dd expected but any other kind of d or D accepted\n",
      "\n",
      "day names:\n",
      "S a or aa\n",
      "Sun aaa\n",
      "Sunday A expected but any other kind of a or A accepted\n",
      "\n",
      "day of the week as number (not an option):\n",
      "6 \n",
      "\n",
      "day of the year as number (where 1 Jan is day 1):\n",
      "96 n or nn\n",
      "096 nnn expected but any other kind of n or N accepted\n",
      "\n",
      "week number (where week_start determines which, automatically):\n",
      "14 w expected but any kind of w or W accepted (w/c Sunday)\n",
      "13 w expected but any kind of w or W accepted (w/c Monday)\n"
     ]
    }
   ],
   "source": [
    "def conversions():\n",
    "    \"\"\"List of all the ways to convert an ordinal\"\"\"\n",
    "\n",
    "    delta = dt.timedelta(days=10)\n",
    "    today = dt.date.today() + delta\n",
    "    today = today.toordinal()\n",
    "    today = dt.date.fromordinal(today)\n",
    "\n",
    "    print(\"years:\")\n",
    "    # print(today.year)\n",
    "    print(today.strftime(\"%y\"), \"y or yy\")\n",
    "    print(today.strftime(\"%Y\"), \"any other kind of y or Y\")\n",
    "\n",
    "    print()\n",
    "    print(\"months:\")\n",
    "    print(today.month, \"m\")\n",
    "    print(today.strftime(\"%m\"), \"mm\")\n",
    "    print(today.strftime(\"%b\"), \"mmm\")\n",
    "    print(today.strftime(\"%B\"), \"M expected but any other kind of m or M accepted\")\n",
    "\n",
    "    print()\n",
    "    print(\"dates:\")\n",
    "    print(today.day, \"d\")\n",
    "    print(today.strftime(\"%d\"), \"dd expected but any other kind of d or D accepted\")\n",
    "\n",
    "    print()\n",
    "    print(\"day names:\")\n",
    "    print(today.strftime(\"%a\")[0], \"a or aa\")\n",
    "    print(today.strftime(\"%a\"), \"aaa\")\n",
    "    print(today.strftime(\"%A\"), \"A expected but any other kind of a or A accepted\")\n",
    "\n",
    "    print()\n",
    "    print(\"day of the week as number (not an option):\")\n",
    "    print(today.weekday(), \"\")\n",
    "\n",
    "    print()\n",
    "    print(\"day of the year as number (where 1 Jan is day 1):\")\n",
    "    print(today.timetuple()[7], \"n or nn\")\n",
    "    print(today.strftime(\"%j\"), \"nnn expected but any other kind of n or N accepted\")\n",
    "\n",
    "    print()\n",
    "    print(\"week number (where week_start determines which, automatically):\")\n",
    "    print(today.strftime(\"%U\"), \"w expected but any kind of w or W accepted (w/c Sunday)\")\n",
    "    print(today.strftime(\"%W\"), \"w expected but any kind of w or W accepted (w/c Monday)\")\n",
    "\n",
    "\n",
    "conversions()  # make sure you've rerun datetime import"
   ]
  },
  {
   "cell_type": "code",
   "execution_count": null,
   "metadata": {},
   "outputs": [],
   "source": []
  }
 ],
 "metadata": {
  "kernelspec": {
   "display_name": "Python 3",
   "language": "python",
   "name": "python3"
  },
  "language_info": {
   "codemirror_mode": {
    "name": "ipython",
    "version": 3
   },
   "file_extension": ".py",
   "mimetype": "text/x-python",
   "name": "python",
   "nbconvert_exporter": "python",
   "pygments_lexer": "ipython3",
   "version": "3.8.0"
  }
 },
 "nbformat": 4,
 "nbformat_minor": 4
}
