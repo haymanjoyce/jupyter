{
 "cells": [
  {
   "cell_type": "code",
   "execution_count": 1,
   "metadata": {},
   "outputs": [
    {
     "name": "stdout",
     "output_type": "stream",
     "text": [
      "Getting value\n",
      "1\n",
      "Getting value\n",
      "1\n",
      "Setting value to 2\n",
      "Deleting value\n"
     ]
    }
   ],
   "source": [
    "# using property function\n",
    "\n",
    "class Alphabet: \n",
    "    def __init__(self, value): \n",
    "        self._value = value \n",
    "        print(self.value)\n",
    "          \n",
    "    # getting the values \n",
    "    def getValue(self): \n",
    "        print('Getting value') \n",
    "        return self._value \n",
    "          \n",
    "    # setting the values \n",
    "    def setValue(self, value): \n",
    "        print('Setting value to ' + value) \n",
    "        self._value = value \n",
    "          \n",
    "    # deleting the values \n",
    "    def delValue(self): \n",
    "        print('Deleting value') \n",
    "        del self._value \n",
    "      \n",
    "    value = property(getValue, setValue, delValue, ) \n",
    "  \n",
    "# passing the value \n",
    "x = Alphabet('1') \n",
    "print(x.value) \n",
    "  \n",
    "x.value = '2'\n",
    "  \n",
    "del x.value "
   ]
  },
  {
   "cell_type": "code",
   "execution_count": 3,
   "metadata": {},
   "outputs": [
    {
     "data": {
      "text/plain": [
       "100"
      ]
     },
     "execution_count": 3,
     "metadata": {},
     "output_type": "execute_result"
    }
   ],
   "source": [
    "# using property decorator\n",
    "\n",
    "class Celsius:\n",
    "    def __init__(self, temperature = 100):\n",
    "        self._temperature = temperature\n",
    "\n",
    "    @property\n",
    "    def temperature(self):\n",
    "        return self._temperature\n",
    "\n",
    "    @temperature.setter\n",
    "    def temperature(self, value):\n",
    "        self._temperature = value\n",
    "\n",
    "obj_d = Celsius()\n",
    "obj_d.temperature"
   ]
  },
  {
   "cell_type": "code",
   "execution_count": null,
   "metadata": {},
   "outputs": [],
   "source": []
  }
 ],
 "metadata": {
  "kernelspec": {
   "display_name": "Python 3",
   "language": "python",
   "name": "python3"
  },
  "language_info": {
   "codemirror_mode": {
    "name": "ipython",
    "version": 3
   },
   "file_extension": ".py",
   "mimetype": "text/x-python",
   "name": "python",
   "nbconvert_exporter": "python",
   "pygments_lexer": "ipython3",
   "version": "3.8.0"
  }
 },
 "nbformat": 4,
 "nbformat_minor": 4
}
