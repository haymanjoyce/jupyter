{
 "cells": [
  {
   "cell_type": "code",
   "execution_count": 1,
   "metadata": {},
   "outputs": [
    {
     "data": {
      "text/plain": [
       "{'__name__': 'time',\n",
       " '__doc__': 'This module provides various functions to manipulate time values.\\n\\nThere are two standard representations of time.  One is the number\\nof seconds since the Epoch, in UTC (a.k.a. GMT).  It may be an integer\\nor a floating point number (to represent fractions of seconds).\\nThe Epoch is system-defined; on Unix, it is generally January 1st, 1970.\\nThe actual value can be retrieved by calling gmtime(0).\\n\\nThe other representation is a tuple of 9 integers giving local time.\\nThe tuple items are:\\n  year (including century, e.g. 1998)\\n  month (1-12)\\n  day (1-31)\\n  hours (0-23)\\n  minutes (0-59)\\n  seconds (0-59)\\n  weekday (0-6, Monday is 0)\\n  Julian day (day in the year, 1-366)\\n  DST (Daylight Savings Time) flag (-1, 0 or 1)\\nIf the DST flag is 0, the time is given in the regular time zone;\\nif it is 1, the time is given in the DST time zone;\\nif it is -1, mktime() should guess based on the date and time.\\n',\n",
       " '__package__': '',\n",
       " '__loader__': _frozen_importlib.BuiltinImporter,\n",
       " '__spec__': ModuleSpec(name='time', loader=<class '_frozen_importlib.BuiltinImporter'>, origin='built-in'),\n",
       " 'time': <function time.time>,\n",
       " 'time_ns': <function time.time_ns>,\n",
       " 'clock': <function time.clock>,\n",
       " 'sleep': <function time.sleep>,\n",
       " 'gmtime': <function time.gmtime>,\n",
       " 'localtime': <function time.localtime>,\n",
       " 'asctime': <function time.asctime>,\n",
       " 'ctime': <function time.ctime>,\n",
       " 'mktime': <function time.mktime>,\n",
       " 'strftime': <function time.strftime>,\n",
       " 'strptime': <function time.strptime>,\n",
       " 'monotonic': <function time.monotonic>,\n",
       " 'monotonic_ns': <function time.monotonic_ns>,\n",
       " 'process_time': <function time.process_time>,\n",
       " 'process_time_ns': <function time.process_time_ns>,\n",
       " 'thread_time': <function time.thread_time>,\n",
       " 'thread_time_ns': <function time.thread_time_ns>,\n",
       " 'perf_counter': <function time.perf_counter>,\n",
       " 'perf_counter_ns': <function time.perf_counter_ns>,\n",
       " 'get_clock_info': <function time.get_clock_info>,\n",
       " 'timezone': 0,\n",
       " 'altzone': -3600,\n",
       " 'daylight': 1,\n",
       " 'tzname': ('GMT Standard Time', 'GMT Summer Time'),\n",
       " '_STRUCT_TM_ITEMS': 11,\n",
       " 'struct_time': time.struct_time}"
      ]
     },
     "execution_count": 1,
     "metadata": {},
     "output_type": "execute_result"
    }
   ],
   "source": [
    "import time\n",
    "vars(time)"
   ]
  },
  {
   "cell_type": "code",
   "execution_count": 3,
   "metadata": {},
   "outputs": [
    {
     "data": {
      "text/plain": [
       "time.struct_time(tm_year=2020, tm_mon=2, tm_mday=3, tm_hour=16, tm_min=57, tm_sec=25, tm_wday=0, tm_yday=34, tm_isdst=0)"
      ]
     },
     "execution_count": 3,
     "metadata": {},
     "output_type": "execute_result"
    }
   ],
   "source": [
    "time.localtime()"
   ]
  },
  {
   "cell_type": "code",
   "execution_count": 4,
   "metadata": {},
   "outputs": [
    {
     "data": {
      "text/plain": [
       "2.465313"
      ]
     },
     "execution_count": 4,
     "metadata": {},
     "output_type": "execute_result"
    }
   ],
   "source": [
    "time.clock()"
   ]
  },
  {
   "cell_type": "code",
   "execution_count": 14,
   "metadata": {},
   "outputs": [
    {
     "data": {
      "text/plain": [
       "False"
      ]
     },
     "execution_count": 14,
     "metadata": {},
     "output_type": "execute_result"
    }
   ],
   "source": [
    "import inspect\n",
    "inspect.isfunction(time.sleep)"
   ]
  },
  {
   "cell_type": "code",
   "execution_count": 22,
   "metadata": {},
   "outputs": [
    {
     "data": {
      "text/plain": [
       "builtin_function_or_method"
      ]
     },
     "execution_count": 22,
     "metadata": {},
     "output_type": "execute_result"
    }
   ],
   "source": [
    "type(time.sleep)"
   ]
  },
  {
   "cell_type": "code",
   "execution_count": 25,
   "metadata": {},
   "outputs": [
    {
     "data": {
      "text/plain": [
       "False"
      ]
     },
     "execution_count": 25,
     "metadata": {},
     "output_type": "execute_result"
    }
   ],
   "source": [
    "ab = time.sleep\n",
    "inspect.isclass(ab)"
   ]
  },
  {
   "cell_type": "code",
   "execution_count": 27,
   "metadata": {},
   "outputs": [],
   "source": [
    "# shift tab to see function args\n",
    "time.sleep(10)"
   ]
  },
  {
   "cell_type": "markdown",
   "metadata": {},
   "source": [
    "Let's try a bit of markdown"
   ]
  },
  {
   "cell_type": "code",
   "execution_count": null,
   "metadata": {},
   "outputs": [],
   "source": []
  }
 ],
 "metadata": {
  "kernelspec": {
   "display_name": "Python 3",
   "language": "python",
   "name": "python3"
  },
  "language_info": {
   "codemirror_mode": {
    "name": "ipython",
    "version": 3
   },
   "file_extension": ".py",
   "mimetype": "text/x-python",
   "name": "python",
   "nbconvert_exporter": "python",
   "pygments_lexer": "ipython3",
   "version": "3.7.4"
  }
 },
 "nbformat": 4,
 "nbformat_minor": 4
}
