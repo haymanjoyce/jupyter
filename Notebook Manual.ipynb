{
 "cells": [
  {
   "cell_type": "markdown",
   "metadata": {},
   "source": [
    "Asterisk for italics\n",
    "\n",
    "Double asterisks for bold\n",
    "\n",
    "Dash for bullets\n",
    "\n",
    "Number and dot for numbered bullet\n",
    "\n",
    "Hash symbol(s) for headers\n",
    "\n",
    "Greater than symbol for indenting text\n",
    "\n",
    "Back quote for inline code\n",
    "\n",
    "Three back quotes for quote block\n",
    "\n",
    "Square brackets for a link followed by brackets containing URL\n",
    "\n",
    "Square brackets (which is also a target name) followed by brackets containing hash, no space, and target name"
   ]
  },
  {
   "cell_type": "code",
   "execution_count": null,
   "metadata": {},
   "outputs": [],
   "source": []
  }
 ],
 "metadata": {
  "kernelspec": {
   "display_name": "Python 3",
   "language": "python",
   "name": "python3"
  },
  "language_info": {
   "codemirror_mode": {
    "name": "ipython",
    "version": 3
   },
   "file_extension": ".py",
   "mimetype": "text/x-python",
   "name": "python",
   "nbconvert_exporter": "python",
   "pygments_lexer": "ipython3",
   "version": "3.7.4"
  }
 },
 "nbformat": 4,
 "nbformat_minor": 4
}
